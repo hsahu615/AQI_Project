{
 "cells": [
  {
   "cell_type": "code",
   "execution_count": 1,
   "id": "ce0cc6de",
   "metadata": {},
   "outputs": [],
   "source": [
    "import pandas as pd\n",
    "import matplotlib.pyplot as plt\n",
    "import os\n",
    "import seaborn as sns\n",
    "%matplotlib inline"
   ]
  },
  {
   "cell_type": "code",
   "execution_count": 2,
   "id": "e028ced6",
   "metadata": {},
   "outputs": [],
   "source": [
    "from aqi import aqi_year\n",
    "from bs4 import BeautifulSoup"
   ]
  },
  {
   "cell_type": "code",
   "execution_count": 3,
   "id": "b17f0ec5",
   "metadata": {},
   "outputs": [],
   "source": [
    "file_html = open('Html_data/2013/1.html', 'rb')\n",
    "file_html=file_html.read()"
   ]
  },
  {
   "cell_type": "code",
   "execution_count": 4,
   "id": "2419d1c8",
   "metadata": {},
   "outputs": [],
   "source": [
    "soup  = BeautifulSoup(file_html, 'lxml')"
   ]
  },
  {
   "cell_type": "code",
   "execution_count": 9,
   "id": "d4e156c7",
   "metadata": {},
   "outputs": [],
   "source": [
    "a = soup.find_all('table', {'class' : 'medias mensuales numspan'})"
   ]
  },
  {
   "cell_type": "code",
   "execution_count": 41,
   "id": "c21a36fa",
   "metadata": {},
   "outputs": [
    {
     "data": {
      "text/plain": [
       "15"
      ]
     },
     "execution_count": 41,
     "metadata": {},
     "output_type": "execute_result"
    }
   ],
   "source": [
    "len(row[0:15])"
   ]
  },
  {
   "cell_type": "code",
   "execution_count": 55,
   "id": "e29a3f6c",
   "metadata": {},
   "outputs": [],
   "source": [
    "row = []\n",
    "col = []\n",
    "for table in soup.findAll('table', {'class': 'medias mensuales numspan'}):\n",
    "    for tbody in table:\n",
    "        for tr in tbody:\n",
    "            a = tr.get_text()\n",
    "            row.append(a)\n",
    "rows = len(row)/15\n",
    "\n",
    "for times in range(round(rows)):\n",
    "    newTempD=[]\n",
    "    for i in range(15):\n",
    "        newTempD.append(row[0])\n",
    "        row.pop(0)\n",
    "    col.append(newTempD)\n",
    "length = len(col)\n",
    "col.pop(length - 1)\n",
    "col.pop(0)\n",
    "for a in range(len(col)):\n",
    "    col[a].pop(6)\n",
    "    col[a].pop(13)\n",
    "    col[a].pop(12)\n",
    "    col[a].pop(11)\n",
    "    col[a].pop(10)\n",
    "    col[a].pop(9)\n",
    "    col[a].pop(0)\n",
    "return finalD"
   ]
  },
  {
   "cell_type": "code",
   "execution_count": 9,
   "id": "35f4131b",
   "metadata": {},
   "outputs": [],
   "source": [
    "def met_data(month, year):\n",
    "#     Accessing file stored in html_data folder in format year/month wise\n",
    "    file_html = open('/Html_Data/{}/{}.html'.format(year,month), 'rb') \n",
    "#     reading the binary format data \n",
    "    plain_text = file_html.read()\n",
    "\n",
    "    tempD = []\n",
    "    finalD = []\n",
    "\n",
    "#     Parsing data in lxml format using  Beautiful Soup\n",
    "    soup = BeautifulSoup(plain_text, \"lxml\")\n",
    "    for table in soup.findAll('table', {'class': 'medias mensuales numspan'}):\n",
    "        for tbody in table:\n",
    "            for tr in tbody:\n",
    "                a = tr.get_text()\n",
    "                tempD.append(a)\n",
    "\n",
    "    rows = len(tempD) / 15\n",
    "\n",
    "    for times in range(round(rows)):\n",
    "        newtempD = []\n",
    "        for i in range(15):\n",
    "            newtempD.append(tempD[0])\n",
    "            tempD.pop(0)\n",
    "        finalD.append(newtempD)\n",
    "\n",
    "    length = len(finalD)\n",
    "\n",
    "    finalD.pop(length - 1)\n",
    "    finalD.pop(0)\n",
    "\n",
    "    for a in range(len(finalD)):\n",
    "        finalD[a].pop(6)\n",
    "        finalD[a].pop(13)\n",
    "        finalD[a].pop(12)\n",
    "        finalD[a].pop(11)\n",
    "        finalD[a].pop(10)\n",
    "        finalD[a].pop(9)\n",
    "        finalD[a].pop(0)\n",
    "\n",
    "    return finalD"
   ]
  },
  {
   "cell_type": "code",
   "execution_count": null,
   "id": "ab75b210",
   "metadata": {},
   "outputs": [],
   "source": []
  }
 ],
 "metadata": {
  "kernelspec": {
   "display_name": "Python 3",
   "language": "python",
   "name": "python3"
  },
  "language_info": {
   "codemirror_mode": {
    "name": "ipython",
    "version": 3
   },
   "file_extension": ".py",
   "mimetype": "text/x-python",
   "name": "python",
   "nbconvert_exporter": "python",
   "pygments_lexer": "ipython3",
   "version": "3.7.10"
  }
 },
 "nbformat": 4,
 "nbformat_minor": 5
}
