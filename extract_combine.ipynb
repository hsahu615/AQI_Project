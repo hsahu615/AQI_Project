{
 "cells": [
  {
   "cell_type": "code",
   "execution_count": 72,
   "id": "ce0cc6de",
   "metadata": {},
   "outputs": [],
   "source": [
    "import pandas as pd\n",
    "import matplotlib.pyplot as plt\n",
    "import os\n",
    "import seaborn as sns\n",
    "%matplotlib inline\n",
    "import csv\n",
    "import sys"
   ]
  },
  {
   "cell_type": "code",
   "execution_count": 73,
   "id": "e028ced6",
   "metadata": {},
   "outputs": [],
   "source": [
    "from aqi import aqi_year\n",
    "from bs4 import BeautifulSoup"
   ]
  },
  {
   "cell_type": "code",
   "execution_count": 74,
   "id": "b17f0ec5",
   "metadata": {},
   "outputs": [],
   "source": [
    "file_html = open('Html_data/2013/1.html', 'rb')\n",
    "file_html=file_html.read()"
   ]
  },
  {
   "cell_type": "code",
   "execution_count": 75,
   "id": "2419d1c8",
   "metadata": {},
   "outputs": [],
   "source": [
    "soup  = BeautifulSoup(file_html, 'lxml')"
   ]
  },
  {
   "cell_type": "code",
   "execution_count": 76,
   "id": "d4e156c7",
   "metadata": {},
   "outputs": [],
   "source": [
    "a = soup.find_all('table', {'class' : 'medias mensuales numspan'})"
   ]
  },
  {
   "cell_type": "code",
   "execution_count": 79,
   "id": "35f4131b",
   "metadata": {},
   "outputs": [],
   "source": [
    "def met_data(month, year):\n",
    "#     Accessing file stored in html_data folder in format year/month wise\n",
    "    file_html = open('Html_Data/{}/{}.html'.format(year,month), 'rb') \n",
    "#     reading the binary format data \n",
    "    plain_text = file_html.read()\n",
    "\n",
    "    tempD = [] # This is our list with all the values of every column\n",
    "    finalD = [] # This our our list which will contain every row\n",
    "\n",
    "#     Parsing data in lxml format using  Beautiful Soup\n",
    "    soup = BeautifulSoup(plain_text, \"lxml\")\n",
    "    for table in soup.findAll('table', {'class': 'medias mensuales numspan'}): #There is only one table but for being on a safe side using this command\n",
    "        for tbody in table: #Accesing every tbody\n",
    "            for tr in tbody: #Accesing every row of table\n",
    "                a = tr.get_text() # getting text out of the row\n",
    "                tempD.append(a) #inserting into a list\n",
    "\n",
    "    rows = len(tempD) / 15   #There are total 15 Columns in the table so after every 15 number new columns is starting\n",
    "\n",
    "#   For every row it will iterate for 15 times as total columns are 15\n",
    "    for times in range(round(rows)): \n",
    "        newtempD = [] # This will be out column list\n",
    "        for i in range(15):\n",
    "            newtempD.append(tempD[0]) # Appending first value of our main list to column list\n",
    "            tempD.pop(0) # Deleting the first value so in next iteration it will not get append again\n",
    "        finalD.append(newtempD) # Appending every column list to our final row list\n",
    "\n",
    "    length = len(finalD) # Checing total number of rows in our row list\n",
    "\n",
    "    # Deleting out rows\n",
    "    finalD.pop(length - 1) \n",
    "    finalD.pop(0)\n",
    "\n",
    "#     Deleting all useless columns\n",
    "    for a in range(len(finalD)):\n",
    "        finalD[a].pop(6)\n",
    "        finalD[a].pop(13)\n",
    "        finalD[a].pop(12)\n",
    "        finalD[a].pop(11)\n",
    "        finalD[a].pop(10)\n",
    "        finalD[a].pop(9)\n",
    "        finalD[a].pop(0)\n",
    "\n",
    "# This is our final filtered table  \n",
    "    return finalD\n",
    "\n",
    "# This function is to get list of data year wise so at last we can make a final dataframe of all years\n",
    "def data_combine(year, cs):\n",
    "    for a in pd.read_csv('RealData/real_' + str(year) + '.csv', chunksize=cs):\n",
    "        df = pd.DataFrame(data=a)\n",
    "        df.drop('SLP', axis=1, inplace=True)\n",
    "        mylist = df.values.tolist()\n",
    "    return mylist\n",
    "\n",
    "\n",
    "if __name__ == '__main__':\n",
    "#     Creating a directory to store real data\n",
    "    if not os.path.exists('RealData'):\n",
    "        os.makedirs('RealData')\n",
    "        \n",
    "#         Extracting data year wise\n",
    "    for year in range(2013,2019):\n",
    "        final_data = []\n",
    "#         creating a csv file to store heading row year wise\n",
    "        with open('RealData/real_' + str(year) + '.csv', 'w') as csvfile:\n",
    "            wr = csv.writer(csvfile, dialect = 'excel')\n",
    "            wr.writerow(['T', 'TM', 'Tm', 'SLP', 'H', 'VV', 'V', 'VM', 'PM2.5'])\n",
    "#             exctracting data month wise from our met_data function\n",
    "        for month in range(1,13):\n",
    "            temp = met_data(month, year)\n",
    "            final_data = final_data + temp\n",
    "            \n",
    "#       Now getting AQI data from the function created in AQI.py file... CHECK THAT OUT FOR DETAIL      \n",
    "        pm = aqi_year(str(year))\n",
    "        \n",
    "        if len(pm)==364:\n",
    "            pm.insert(364, '-')\n",
    "            \n",
    "#         Inserting AQI to last column of final_data\n",
    "        for i in range(len(final_data)-1):\n",
    "            final_data[i].insert(8, pm[i])\n",
    "            \n",
    "#       Writing final data list to our csv file created before\n",
    "        with open('RealData/real_' + str(year) + '.csv', 'a') as csvfile:\n",
    "            wr = csv.writer(csvfile, dialect = 'excel')\n",
    "            for row in final_data:\n",
    "                flag = 0\n",
    "                for elem in row:\n",
    "                    if elem =='':\n",
    "                        flag=1\n",
    "                if flag!=1:\n",
    "                    wr.writerow(row)\n",
    "#   Getting dataframe list from data_combine function so later on data can be combined to one dataframe\n",
    "    data_2013 = data_combine(2013, 600)\n",
    "    data_2014 = data_combine(2014, 600)    \n",
    "    data_2015 = data_combine(2015, 600)    \n",
    "    data_2016 = data_combine(2016, 600)  \n",
    "    data_2017 = data_combine(2017, 600)  \n",
    "    data_2018 = data_combine(2018, 600)  \n",
    "\n",
    "#     Combining list to one list named as total\n",
    "    total = data_2013+data_2014+data_2015+data_2016+data_2017+data_2018\n",
    "    \n",
    "# adding all year data to one csv file\n",
    "    with open('RealData/Real_combine.csv', 'w') as csvfile:\n",
    "        wr = csv.writer(csvfile, dialect = 'excel')\n",
    "        wr.writerow(['T', 'TM', 'Tm', 'H', 'VV', 'V', 'VM', 'PM2.5'])\n",
    "        wr.writerows(total)"
   ]
  },
  {
   "cell_type": "code",
   "execution_count": 95,
   "id": "625f2eaa",
   "metadata": {},
   "outputs": [],
   "source": [
    "df = pd.read_csv('RealData/Real_combine.csv')"
   ]
  },
  {
   "cell_type": "code",
   "execution_count": 97,
   "id": "7feffbd6",
   "metadata": {},
   "outputs": [
    {
     "data": {
      "text/html": [
       "<div>\n",
       "<style scoped>\n",
       "    .dataframe tbody tr th:only-of-type {\n",
       "        vertical-align: middle;\n",
       "    }\n",
       "\n",
       "    .dataframe tbody tr th {\n",
       "        vertical-align: top;\n",
       "    }\n",
       "\n",
       "    .dataframe thead th {\n",
       "        text-align: right;\n",
       "    }\n",
       "</style>\n",
       "<table border=\"1\" class=\"dataframe\">\n",
       "  <thead>\n",
       "    <tr style=\"text-align: right;\">\n",
       "      <th></th>\n",
       "      <th>T</th>\n",
       "      <th>TM</th>\n",
       "      <th>Tm</th>\n",
       "      <th>H</th>\n",
       "      <th>VV</th>\n",
       "      <th>V</th>\n",
       "      <th>VM</th>\n",
       "      <th>PM2.5</th>\n",
       "    </tr>\n",
       "  </thead>\n",
       "  <tbody>\n",
       "    <tr>\n",
       "      <th>1123</th>\n",
       "      <td>22.7</td>\n",
       "      <td>28.4</td>\n",
       "      <td>18.1</td>\n",
       "      <td>65</td>\n",
       "      <td>6.3</td>\n",
       "      <td>3.9</td>\n",
       "      <td>5.4</td>\n",
       "      <td>310.250000</td>\n",
       "    </tr>\n",
       "    <tr>\n",
       "      <th>1124</th>\n",
       "      <td>23.4</td>\n",
       "      <td>29.1</td>\n",
       "      <td>18.4</td>\n",
       "      <td>62</td>\n",
       "      <td>6</td>\n",
       "      <td>5.7</td>\n",
       "      <td>9.4</td>\n",
       "      <td>204.375000</td>\n",
       "    </tr>\n",
       "    <tr>\n",
       "      <th>1125</th>\n",
       "      <td>23.8</td>\n",
       "      <td>30.2</td>\n",
       "      <td>17.7</td>\n",
       "      <td>56</td>\n",
       "      <td>5.5</td>\n",
       "      <td>6.1</td>\n",
       "      <td>9.4</td>\n",
       "      <td>223.250000</td>\n",
       "    </tr>\n",
       "    <tr>\n",
       "      <th>1126</th>\n",
       "      <td>24</td>\n",
       "      <td>31.4</td>\n",
       "      <td>19</td>\n",
       "      <td>63</td>\n",
       "      <td>6.3</td>\n",
       "      <td>5.4</td>\n",
       "      <td>7.6</td>\n",
       "      <td>248.958333</td>\n",
       "    </tr>\n",
       "    <tr>\n",
       "      <th>1127</th>\n",
       "      <td>20.9</td>\n",
       "      <td>25.8</td>\n",
       "      <td>16.6</td>\n",
       "      <td>51</td>\n",
       "      <td>6.6</td>\n",
       "      <td>3.9</td>\n",
       "      <td>11.1</td>\n",
       "      <td>NaN</td>\n",
       "    </tr>\n",
       "  </tbody>\n",
       "</table>\n",
       "</div>"
      ],
      "text/plain": [
       "         T    TM    Tm   H   VV    V    VM       PM2.5\n",
       "1123  22.7  28.4  18.1  65  6.3  3.9   5.4  310.250000\n",
       "1124  23.4  29.1  18.4  62    6  5.7   9.4  204.375000\n",
       "1125  23.8  30.2  17.7  56  5.5  6.1   9.4  223.250000\n",
       "1126    24  31.4    19  63  6.3  5.4   7.6  248.958333\n",
       "1127  20.9  25.8  16.6  51  6.6  3.9  11.1         NaN"
      ]
     },
     "execution_count": 97,
     "metadata": {},
     "output_type": "execute_result"
    }
   ],
   "source": [
    "df.tail()"
   ]
  },
  {
   "cell_type": "code",
   "execution_count": 100,
   "id": "f75ebe14",
   "metadata": {},
   "outputs": [
    {
     "data": {
      "text/plain": [
       "364"
      ]
     },
     "execution_count": 100,
     "metadata": {},
     "output_type": "execute_result"
    }
   ],
   "source": [
    "len(aqi_year('2018'))"
   ]
  },
  {
   "cell_type": "code",
   "execution_count": 102,
   "id": "d8d61c69",
   "metadata": {},
   "outputs": [
    {
     "data": {
      "text/plain": [
       "334.875"
      ]
     },
     "execution_count": 102,
     "metadata": {},
     "output_type": "execute_result"
    }
   ],
   "source": [
    "aqi_year('2018')[363]"
   ]
  },
  {
   "cell_type": "code",
   "execution_count": 104,
   "id": "45e4dbce",
   "metadata": {},
   "outputs": [
    {
     "data": {
      "text/html": [
       "<div>\n",
       "<style scoped>\n",
       "    .dataframe tbody tr th:only-of-type {\n",
       "        vertical-align: middle;\n",
       "    }\n",
       "\n",
       "    .dataframe tbody tr th {\n",
       "        vertical-align: top;\n",
       "    }\n",
       "\n",
       "    .dataframe thead th {\n",
       "        text-align: right;\n",
       "    }\n",
       "</style>\n",
       "<table border=\"1\" class=\"dataframe\">\n",
       "  <thead>\n",
       "    <tr style=\"text-align: right;\">\n",
       "      <th></th>\n",
       "      <th>T</th>\n",
       "      <th>TM</th>\n",
       "      <th>Tm</th>\n",
       "      <th>H</th>\n",
       "      <th>VV</th>\n",
       "      <th>V</th>\n",
       "      <th>VM</th>\n",
       "      <th>PM2.5</th>\n",
       "    </tr>\n",
       "  </thead>\n",
       "  <tbody>\n",
       "    <tr>\n",
       "      <th>369</th>\n",
       "      <td>21.1</td>\n",
       "      <td>28.3</td>\n",
       "      <td>17.1</td>\n",
       "      <td>74</td>\n",
       "      <td>7.7</td>\n",
       "      <td>0.9</td>\n",
       "      <td>3.5</td>\n",
       "      <td>310.25</td>\n",
       "    </tr>\n",
       "    <tr>\n",
       "      <th>1123</th>\n",
       "      <td>22.7</td>\n",
       "      <td>28.4</td>\n",
       "      <td>18.1</td>\n",
       "      <td>65</td>\n",
       "      <td>6.3</td>\n",
       "      <td>3.9</td>\n",
       "      <td>5.4</td>\n",
       "      <td>310.25</td>\n",
       "    </tr>\n",
       "  </tbody>\n",
       "</table>\n",
       "</div>"
      ],
      "text/plain": [
       "         T    TM    Tm   H   VV    V   VM   PM2.5\n",
       "369   21.1  28.3  17.1  74  7.7  0.9  3.5  310.25\n",
       "1123  22.7  28.4  18.1  65  6.3  3.9  5.4  310.25"
      ]
     },
     "execution_count": 104,
     "metadata": {},
     "output_type": "execute_result"
    }
   ],
   "source": [
    "df[df['PM2.5']==310.250000]"
   ]
  },
  {
   "cell_type": "code",
   "execution_count": null,
   "id": "321ec5a4",
   "metadata": {},
   "outputs": [],
   "source": []
  }
 ],
 "metadata": {
  "kernelspec": {
   "display_name": "Python 3",
   "language": "python",
   "name": "python3"
  },
  "language_info": {
   "codemirror_mode": {
    "name": "ipython",
    "version": 3
   },
   "file_extension": ".py",
   "mimetype": "text/x-python",
   "name": "python",
   "nbconvert_exporter": "python",
   "pygments_lexer": "ipython3",
   "version": "3.7.10"
  }
 },
 "nbformat": 4,
 "nbformat_minor": 5
}
