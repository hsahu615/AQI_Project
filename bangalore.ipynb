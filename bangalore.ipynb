{
 "cells": [
  {
   "cell_type": "code",
   "execution_count": 1,
   "id": "ed40ab2e",
   "metadata": {},
   "outputs": [],
   "source": [
    "import os\n",
    "import time \n",
    "import requests\n",
    "import sys"
   ]
  },
  {
   "cell_type": "code",
   "execution_count": 2,
   "id": "fe9d572f",
   "metadata": {},
   "outputs": [
    {
     "name": "stdout",
     "output_type": "stream",
     "text": [
      "94.96061849594116\n"
     ]
    }
   ],
   "source": [
    "def data_collection():\n",
    "    for year in range(2013,2022):\n",
    "        for month in range(1,13):\n",
    "            if(month<10):\n",
    "                url = \"https://en.tutiempo.net/climate/0{}-{}/ws-432950.html\".format(month, year)\n",
    "            else:\n",
    "                url = \"https://en.tutiempo.net/climate/{}-{}/ws-432950.html\".format(month, year)\n",
    "            url = requests.get(url)\n",
    "            url_text = url.text.encode('utf=8')\n",
    "            if not os.path.exists(\"Html_data/{}\".format(year)):\n",
    "                os.makedirs(\"Html_data/{}\".format(year))\n",
    "            with open(\"Html_data/{}/{}.html\".format(year, month), 'wb') as output:\n",
    "                output.write(url_text)\n",
    "        sys.stdout.flush()\n",
    "if __name__ == \"__main__\":\n",
    "    start_time = time.time()\n",
    "    data_collection()\n",
    "    end_time = time.time()\n",
    "    print(end_time-start_time)"
   ]
  },
  {
   "cell_type": "code",
   "execution_count": null,
   "id": "6ce129d2",
   "metadata": {},
   "outputs": [],
   "source": []
  }
 ],
 "metadata": {
  "kernelspec": {
   "display_name": "Python 3",
   "language": "python",
   "name": "python3"
  },
  "language_info": {
   "codemirror_mode": {
    "name": "ipython",
    "version": 3
   },
   "file_extension": ".py",
   "mimetype": "text/x-python",
   "name": "python",
   "nbconvert_exporter": "python",
   "pygments_lexer": "ipython3",
   "version": "3.7.10"
  }
 },
 "nbformat": 4,
 "nbformat_minor": 5
}
